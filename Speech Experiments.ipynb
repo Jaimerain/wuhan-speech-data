{
 "cells": [
  {
   "cell_type": "markdown",
   "metadata": {},
   "source": [
    "# Speech Classification Experiments\n",
    "\n",
    "This notebook provides a suggested structre for your report on your classification experiments.  Fill out the sections below and add the code blocks needed to run your experiments.\n"
   ]
  },
  {
   "cell_type": "markdown",
   "metadata": {},
   "source": [
    "## Background\n",
    "\n",
    "Describe the problem we are trying to solve - classifying speech sounds as male/female, english/chinese.  "
   ]
  },
  {
   "cell_type": "markdown",
   "metadata": {},
   "source": [
    "## Data\n",
    "\n",
    "Describe the data we have collected and how it was recorded. How many speakers (male and female), did you need to exclude any, etc.\n",
    "\n",
    "The words we used in English and Chinese were:\n",
    "\n",
    "1. 79\n",
    "2. 14\n",
    "3. 97\n",
    "4. 63\n",
    "5. 54\n",
    "6. 15\n",
    "7. 22\n",
    "8. 31\n",
    "9. 88\n",
    "10. 96\n"
   ]
  },
  {
   "cell_type": "markdown",
   "metadata": {},
   "source": [
    "## Method\n",
    "\n",
    "Describe the experimental methods. What steps did you take? How much training and test data did you use.\n",
    "\n",
    "Briefly describe the classification methods that you used."
   ]
  },
  {
   "cell_type": "markdown",
   "metadata": {},
   "source": [
    "# Experiment\n",
    "\n",
    "This section includes the code for your experiment."
   ]
  },
  {
   "cell_type": "code",
   "execution_count": null,
   "metadata": {},
   "outputs": [],
   "source": [
    "import os\n",
    "import librosa\n",
    "import librosa.display\n",
    "import matplotlib.pyplot as plt\n",
    "%matplotlib inline\n",
    "import sklearn\n",
    "import numpy as np\n",
    "import utils  # our own utilities"
   ]
  },
  {
   "cell_type": "code",
   "execution_count": null,
   "metadata": {},
   "outputs": [],
   "source": [
    "# use utils library to get metadata for all recordings\n",
    "iteminfo, speakers = utils.extract_metadata('data')"
   ]
  },
  {
   "cell_type": "code",
   "execution_count": null,
   "metadata": {},
   "outputs": [],
   "source": [
    "# another utility function to get the data according to metadata properties\n",
    "male_data = utils.get_data_for(iteminfo, 'gender', 'm')\n",
    "two_speakers = utils.get_data_for(iteminfo, 'speaker', speakers[:2])"
   ]
  },
  {
   "cell_type": "code",
   "execution_count": null,
   "metadata": {},
   "outputs": [],
   "source": [
    "# and another to get the labels for a list of filenames\n",
    "labels = utils.get_data_labels(iteminfo, male_data, 'language')\n",
    "labels[:10]"
   ]
  },
  {
   "cell_type": "markdown",
   "metadata": {},
   "source": [
    "## Sections\n",
    "\n",
    "Your code should include blocks that explain what you are doing or interpret the results that you generate."
   ]
  },
  {
   "cell_type": "code",
   "execution_count": null,
   "metadata": {},
   "outputs": [],
   "source": [
    "# more code goes here"
   ]
  },
  {
   "cell_type": "markdown",
   "metadata": {},
   "source": [
    "## Results\n",
    "\n",
    "This section shows the results of your experiments. It will include code blocks to generate result tables and maybe plots if appropriate."
   ]
  },
  {
   "cell_type": "code",
   "execution_count": null,
   "metadata": {},
   "outputs": [],
   "source": [
    "# code to make a result table here"
   ]
  },
  {
   "cell_type": "markdown",
   "metadata": {},
   "source": [
    "## Discussion\n",
    "\n",
    "Your final section should discuss your results, did your experiment work? If not, what might some of the reasons be? How could you make it better? "
   ]
  }
 ],
 "metadata": {
  "anaconda-cloud": {},
  "kernelspec": {
   "display_name": "Python 3",
   "language": "python",
   "name": "python3"
  },
  "language_info": {
   "codemirror_mode": {
    "name": "ipython",
    "version": 3
   },
   "file_extension": ".py",
   "mimetype": "text/x-python",
   "name": "python",
   "nbconvert_exporter": "python",
   "pygments_lexer": "ipython3",
   "version": "3.6.5"
  }
 },
 "nbformat": 4,
 "nbformat_minor": 1
}
